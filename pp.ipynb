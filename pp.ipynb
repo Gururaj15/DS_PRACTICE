{
 "cells": [
  {
   "cell_type": "markdown",
   "id": "4d52e8f8",
   "metadata": {},
   "source": [
    "# print('hello')"
   ]
  },
  {
   "cell_type": "markdown",
   "id": "ee4cd1bb",
   "metadata": {},
   "source": [
    "- gf"
   ]
  },
  {
   "cell_type": "code",
   "execution_count": null,
   "id": "a04bf00e",
   "metadata": {},
   "outputs": [],
   "source": []
  }
 ],
 "metadata": {
  "kernelspec": {
   "display_name": "Python 3 (ipykernel)",
   "language": "python",
   "name": "python3"
  },
  "language_info": {
   "codemirror_mode": {
    "name": "ipython",
    "version": 3
   },
   "file_extension": ".py",
   "mimetype": "text/x-python",
   "name": "python",
   "nbconvert_exporter": "python",
   "pygments_lexer": "ipython3",
   "version": "3.9.7"
  }
 },
 "nbformat": 4,
 "nbformat_minor": 5
}
